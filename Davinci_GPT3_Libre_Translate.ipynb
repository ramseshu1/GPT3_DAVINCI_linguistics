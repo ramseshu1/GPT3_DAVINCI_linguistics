{
  "nbformat": 4,
  "nbformat_minor": 0,
  "metadata": {
    "colab": {
      "provenance": []
    },
    "kernelspec": {
      "name": "python3",
      "display_name": "Python 3"
    },
    "language_info": {
      "name": "python"
    }
  },
  "cells": [
    {
      "cell_type": "code",
      "execution_count": null,
      "metadata": {
        "id": "Cm1-MTyeyraT",
        "colab": {
          "base_uri": "https://localhost:8080/"
        },
        "outputId": "907eb83a-6d1c-4f1e-9108-84d93e76e537"
      },
      "outputs": [
        {
          "output_type": "stream",
          "name": "stdout",
          "text": [
            "Looking in indexes: https://pypi.org/simple, https://us-python.pkg.dev/colab-wheels/public/simple/\n",
            "Collecting openai\n",
            "  Downloading openai-0.25.0.tar.gz (44 kB)\n",
            "\u001b[K     |████████████████████████████████| 44 kB 2.0 MB/s \n",
            "\u001b[?25h  Installing build dependencies ... \u001b[?25l\u001b[?25hdone\n",
            "  Getting requirements to build wheel ... \u001b[?25l\u001b[?25hdone\n",
            "    Preparing wheel metadata ... \u001b[?25l\u001b[?25hdone\n",
            "Collecting pandas-stubs>=1.1.0.11\n",
            "  Downloading pandas_stubs-1.5.2.221213-py3-none-any.whl (147 kB)\n",
            "\u001b[K     |████████████████████████████████| 147 kB 8.8 MB/s \n",
            "\u001b[?25hRequirement already satisfied: tqdm in /usr/local/lib/python3.8/dist-packages (from openai) (4.64.1)\n",
            "Requirement already satisfied: openpyxl>=3.0.7 in /usr/local/lib/python3.8/dist-packages (from openai) (3.0.10)\n",
            "Requirement already satisfied: requests>=2.20 in /usr/local/lib/python3.8/dist-packages (from openai) (2.23.0)\n",
            "Requirement already satisfied: pandas>=1.2.3 in /usr/local/lib/python3.8/dist-packages (from openai) (1.3.5)\n",
            "Requirement already satisfied: numpy in /usr/local/lib/python3.8/dist-packages (from openai) (1.21.6)\n",
            "Requirement already satisfied: typing-extensions in /usr/local/lib/python3.8/dist-packages (from openai) (4.4.0)\n",
            "Requirement already satisfied: et-xmlfile in /usr/local/lib/python3.8/dist-packages (from openpyxl>=3.0.7->openai) (1.1.0)\n",
            "Requirement already satisfied: python-dateutil>=2.7.3 in /usr/local/lib/python3.8/dist-packages (from pandas>=1.2.3->openai) (2.8.2)\n",
            "Requirement already satisfied: pytz>=2017.3 in /usr/local/lib/python3.8/dist-packages (from pandas>=1.2.3->openai) (2022.6)\n",
            "Collecting types-pytz>=2022.1.1\n",
            "  Downloading types_pytz-2022.7.0.0-py3-none-any.whl (4.7 kB)\n",
            "Requirement already satisfied: six>=1.5 in /usr/local/lib/python3.8/dist-packages (from python-dateutil>=2.7.3->pandas>=1.2.3->openai) (1.15.0)\n",
            "Requirement already satisfied: idna<3,>=2.5 in /usr/local/lib/python3.8/dist-packages (from requests>=2.20->openai) (2.10)\n",
            "Requirement already satisfied: urllib3!=1.25.0,!=1.25.1,<1.26,>=1.21.1 in /usr/local/lib/python3.8/dist-packages (from requests>=2.20->openai) (1.24.3)\n",
            "Requirement already satisfied: certifi>=2017.4.17 in /usr/local/lib/python3.8/dist-packages (from requests>=2.20->openai) (2022.12.7)\n",
            "Requirement already satisfied: chardet<4,>=3.0.2 in /usr/local/lib/python3.8/dist-packages (from requests>=2.20->openai) (3.0.4)\n",
            "Building wheels for collected packages: openai\n",
            "  Building wheel for openai (PEP 517) ... \u001b[?25l\u001b[?25hdone\n",
            "  Created wheel for openai: filename=openai-0.25.0-py3-none-any.whl size=55880 sha256=7baec782163789aef8ed10163948e9ac2d61245bc1e3bd930ed672d576fd2b18\n",
            "  Stored in directory: /root/.cache/pip/wheels/4b/92/33/6f57c7aae0b16875267999a50570e81f15eecec577ebe05a2e\n",
            "Successfully built openai\n",
            "Installing collected packages: types-pytz, pandas-stubs, openai\n",
            "Successfully installed openai-0.25.0 pandas-stubs-1.5.2.221213 types-pytz-2022.7.0.0\n",
            "Looking in indexes: https://pypi.org/simple, https://us-python.pkg.dev/colab-wheels/public/simple/\n",
            "Collecting libretranslatepy\n",
            "  Downloading libretranslatepy-2.1.3-py3-none-any.whl (3.4 kB)\n",
            "Installing collected packages: libretranslatepy\n",
            "Successfully installed libretranslatepy-2.1.3\n"
          ]
        }
      ],
      "source": [
        "!pip install openai\n",
        "!pip install libretranslatepy"
      ]
    },
    {
      "cell_type": "code",
      "source": [
        "import openai\n",
        "openai.api_key = \"...\""
      ],
      "metadata": {
        "id": "cIoAcoDjyv87"
      },
      "execution_count": null,
      "outputs": []
    },
    {
      "cell_type": "markdown",
      "source": [
        "### REMOVE API KEY BEFORE UPLOADING TO GITHUB"
      ],
      "metadata": {
        "id": "JNYGjjxNMrWN"
      }
    },
    {
      "cell_type": "code",
      "source": [
        "prompt = input()\n",
        "model = \"text-davinci-003\""
      ],
      "metadata": {
        "id": "kT-4Y6e_zEkL",
        "colab": {
          "base_uri": "https://localhost:8080/"
        },
        "outputId": "4fea07ab-1b18-40ba-de0b-6320b0979251"
      },
      "execution_count": null,
      "outputs": [
        {
          "name": "stdout",
          "output_type": "stream",
          "text": [
            "Comment allez-vous?\n"
          ]
        }
      ]
    },
    {
      "cell_type": "code",
      "source": [
        "completion = openai.Completion.create(engine=model, prompt=prompt, max_tokens=1024, n=1,stop=None,temperature=0.5)\n",
        "response = completion.choices[0].text"
      ],
      "metadata": {
        "id": "zIyq7mmXzGpJ"
      },
      "execution_count": null,
      "outputs": []
    },
    {
      "cell_type": "code",
      "source": [
        "print(response)"
      ],
      "metadata": {
        "colab": {
          "base_uri": "https://localhost:8080/"
        },
        "id": "V08Lyujyet_C",
        "outputId": "1949905b-57e1-494a-e7c1-2ac8b8de61f4"
      },
      "execution_count": null,
      "outputs": [
        {
          "output_type": "stream",
          "name": "stdout",
          "text": [
            "\n",
            "\n",
            "Ça va bien, merci. Et vous ?\n"
          ]
        }
      ]
    },
    {
      "cell_type": "markdown",
      "source": [
        "Translation through external API to verify repsonse "
      ],
      "metadata": {
        "id": "pepdLEMOOC8N"
      }
    },
    {
      "cell_type": "code",
      "source": [
        "from libretranslatepy import LibreTranslateAPI\n",
        "\n",
        "lt = LibreTranslateAPI(\"https://translate.argosopentech.com/\")\n",
        "\n",
        "[print(lt.translate(response, \"en\", i[\"code\"])) for i in lt.languages()]"
      ],
      "metadata": {
        "id": "8EwTiZG5-srR"
      },
      "execution_count": null,
      "outputs": []
    },
    {
      "cell_type": "markdown",
      "source": [
        "Full code:"
      ],
      "metadata": {
        "id": "_QTlgf1uVoLM"
      }
    },
    {
      "cell_type": "code",
      "source": [
        "import openai\n",
        "openai.api_key = \"...\"\n",
        "\n",
        "prompt = input()\n",
        "model = \"text-davinci-003\"\n",
        "\n",
        "completion = openai.Completion.create(engine=model, prompt=prompt, max_tokens=1024, n=1,stop=None,temperature=0.5)\n",
        "response = completion.choices[0].text\n",
        "\n",
        "from libretranslatepy import LibreTranslateAPI\n",
        "\n",
        "lt = LibreTranslateAPI(\"https://translate.argosopentech.com/\")\n",
        "\n",
        "[print(lt.translate(response, \"en\", i[\"code\"])) for i in lt.languages()]"
      ],
      "metadata": {
        "colab": {
          "base_uri": "https://localhost:8080/"
        },
        "id": "T4nti_89_TA6",
        "outputId": "f97fffeb-9073-40d4-e44e-335673ed28c7"
      },
      "execution_count": null,
      "outputs": [
        {
          "output_type": "stream",
          "name": "stdout",
          "text": [
            "Tell me a joke, Bob\n",
            "\n",
            "\n",
            "Q: What did the fish say when it hit the wall?\n",
            "A: Dam!\n",
            "\n",
            "\n",
            "ماذا قالت السمكة عندما ضربت الحائط؟\n",
            "اللعنة\n",
            "\n",
            "\n",
            "Q. 鱼在打隔离墙时说什么?\n",
            "A:Dam!\n",
            "\n",
            "\n",
            "Q: Que dit le poisson quand il a heurté le mur?\n",
            "A: Dam!\n",
            "\n",
            "\n",
            "F: Was hat der Fisch gesagt, als er die Wand traf?\n",
            "A: Verdammt!\n",
            "\n",
            "\n",
            "प्रश्न: जब यह दीवार को मारता है तो मछली क्या कहती है?\n",
            "A: Dam!\n",
            "\n",
            "\n",
            "T: Apa yang dikatakan ikan ketika memukul dinding?\n",
            "Sitemap\n",
            "\n",
            "\n",
            "C: Cad a rinne an t-iasc a rá nuair a bhuail sé an balla?\n",
            "A: Dam!\n",
            "\n",
            "\n",
            "D: Che cosa ha detto il pesce quando ha colpito il muro?\n",
            "A: Diga!\n",
            "\n",
            "\n",
            "Q:魚が壁に当たると言ったのは?\n",
            "A: ダム!\n",
            "\n",
            "\n",
            "Q: 물고기는 어떻게 벽을 명중할 때 말 했습니까?\n",
            "A: 댐!\n",
            "\n",
            "\n",
            "Co robiło ryby mówią, gdy uderzył w mur?\n",
            "A: Dama!\n",
            "\n",
            "\n",
            "Q: O que o peixe disse quando bateu na parede?\n",
            "A: Dam!\n",
            "\n",
            "\n",
            "К: Что рыба сказала когда она ударила стену?\n",
            "А: Дам!\n",
            "\n",
            "\n",
            "P: ¿Qué dijo el pez cuando golpeó la pared?\n",
            "R: ¡Maldita sea!\n",
            "\n",
            "\n",
            "S: Duvara çarptığınızda balık ne yaptığını söylüyor?\n",
            "A: Şam!\n",
            "\n",
            "\n",
            "Cá đã nói gì khi nó đâm vào tường?\n",
            "Dam!\n"
          ]
        },
        {
          "output_type": "execute_result",
          "data": {
            "text/plain": [
              "[None,\n",
              " None,\n",
              " None,\n",
              " None,\n",
              " None,\n",
              " None,\n",
              " None,\n",
              " None,\n",
              " None,\n",
              " None,\n",
              " None,\n",
              " None,\n",
              " None,\n",
              " None,\n",
              " None,\n",
              " None,\n",
              " None]"
            ]
          },
          "metadata": {},
          "execution_count": 25
        }
      ]
    },
    {
      "cell_type": "code",
      "source": [
        "!pip install libretranslate"
      ],
      "metadata": {
        "id": "gaSYrSi99Xv_"
      },
      "execution_count": null,
      "outputs": []
    },
    {
      "cell_type": "code",
      "source": [
        "const res = await fetch(\"https://libretranslate.com/translate\", {\n",
        "\tmethod: \"POST\",\n",
        "\tbody: JSON.stringify({\n",
        "\t\tq: \"Hello\",\n",
        "\t\tsource: \"en\",\n",
        "\t\ttarget: \"es\",\n",
        "\t\tformat: \"text\",\n",
        "\t\tapi_key: \"\"\n",
        "\t}),\n",
        "\theaders: { \"Content-Type\": \"application/json\" }\n",
        "});\n",
        "\n",
        "console.log(await res.json());"
      ],
      "metadata": {
        "id": "zAQw5vAQz1CH"
      },
      "execution_count": null,
      "outputs": []
    },
    {
      "cell_type": "code",
      "source": [
        "from libretranslatepy import LibreTranslateAPI\n",
        "\n",
        "lt = LibreTranslateAPI(\"https://translate.argosopentech.com/\")\n",
        "\n",
        "print(lt.translate(\"LibreTranslate is awesome!\", \"en\", \"es\"))\n",
        "# LibreTranslate es impresionante!\n",
        "\n",
        "print(lt.detect(\"Hello World\"))\n",
        "# [{\"confidence\": 0.6, \"language\": \"en\"}]\n",
        "\n",
        "print(lt.languages())\n",
        "# [{\"code\":\"en\", \"name\":\"English\"}]"
      ],
      "metadata": {
        "colab": {
          "base_uri": "https://localhost:8080/"
        },
        "id": "M3FZWlXJ9NGG",
        "outputId": "0b09698f-65e6-477d-b673-e0f1d2d893bd"
      },
      "execution_count": null,
      "outputs": [
        {
          "output_type": "stream",
          "name": "stdout",
          "text": [
            "LibreTranslate es impresionante!\n",
            "[{'confidence': 92.0, 'language': 'en'}]\n",
            "[{'code': 'en', 'name': 'English'}, {'code': 'ar', 'name': 'Arabic'}, {'code': 'zh', 'name': 'Chinese'}, {'code': 'fr', 'name': 'French'}, {'code': 'de', 'name': 'German'}, {'code': 'hi', 'name': 'Hindi'}, {'code': 'id', 'name': 'Indonesian'}, {'code': 'ga', 'name': 'Irish'}, {'code': 'it', 'name': 'Italian'}, {'code': 'ja', 'name': 'Japanese'}, {'code': 'ko', 'name': 'Korean'}, {'code': 'pl', 'name': 'Polish'}, {'code': 'pt', 'name': 'Portuguese'}, {'code': 'ru', 'name': 'Russian'}, {'code': 'es', 'name': 'Spanish'}, {'code': 'tr', 'name': 'Turkish'}, {'code': 'vi', 'name': 'Vietnamese'}]\n"
          ]
        }
      ]
    },
    {
      "cell_type": "code",
      "source": [
        "print(lt.translate(response, \"en\", \"es\"))\n"
      ],
      "metadata": {
        "colab": {
          "base_uri": "https://localhost:8080/"
        },
        "id": "2Lm-pWXm9-Sm",
        "outputId": "e4955c38-d71f-4684-aadc-ec044fc34d4a"
      },
      "execution_count": null,
      "outputs": [
        {
          "output_type": "stream",
          "name": "stdout",
          "text": [
            "\n",
            "\n",
            "Me llamo Bob.\n"
          ]
        }
      ]
    },
    {
      "cell_type": "code",
      "source": [],
      "metadata": {
        "id": "voFsdMNQ-QZn"
      },
      "execution_count": null,
      "outputs": []
    }
  ]
}